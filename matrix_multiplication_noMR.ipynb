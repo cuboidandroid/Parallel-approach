{
 "cells": [
  {
   "cell_type": "markdown",
   "metadata": {},
   "source": [
    "## Matrix multiplication, no MR, tuples method"
   ]
  },
  {
   "cell_type": "code",
   "execution_count": 1,
   "metadata": {},
   "outputs": [],
   "source": [
    "import numpy as np\n",
    "from collections import defaultdict as dd\n",
    "from itertools import product"
   ]
  },
  {
   "cell_type": "markdown",
   "metadata": {},
   "source": [
    "For visualisation purposes lets take 2x2 matrix with integers in some range."
   ]
  },
  {
   "cell_type": "code",
   "execution_count": 2,
   "metadata": {},
   "outputs": [],
   "source": [
    "s1 = 2\n",
    "s2 = 2\n",
    "M = np.random.randint(low=0, high=4, size=[s1,s2]) #np.matrix([[1,0,0],[3,0,1],[2,0,0]])\n",
    "N = np.random.randint(low=0, high=4, size=[s2,s1]) #np.matrix([[0,3,0],[3,0,1],[0,2,0]])"
   ]
  },
  {
   "cell_type": "code",
   "execution_count": 15,
   "metadata": {},
   "outputs": [
    {
     "data": {
      "text/plain": [
       "array([[3, 0],\n",
       "       [1, 3]])"
      ]
     },
     "metadata": {},
     "output_type": "display_data"
    },
    {
     "data": {
      "text/plain": [
       "array([[3, 2],\n",
       "       [3, 3]])"
      ]
     },
     "metadata": {},
     "output_type": "display_data"
    },
    {
     "data": {
      "text/plain": [
       "array([[ 9,  6],\n",
       "       [12, 11]])"
      ]
     },
     "metadata": {},
     "output_type": "display_data"
    }
   ],
   "source": [
    "display(M, N, M @ N)"
   ]
  },
  {
   "cell_type": "markdown",
   "metadata": {},
   "source": [
    "### Algorithm"
   ]
  },
  {
   "cell_type": "markdown",
   "metadata": {},
   "source": [
    "Function \"map_mat\" takes matrix and returns list of tuples (index[0], index[1], value, name_of_matrix). Last parameter is only for distinction. In P=MN second matrix should be taken with parameter rev=1, which changes the indexing order."
   ]
  },
  {
   "cell_type": "code",
   "execution_count": 3,
   "metadata": {},
   "outputs": [],
   "source": [
    "def map_mat(mat, rev=0):\n",
    "    s1 = np.shape(M)[0]\n",
    "    s2 = np.shape(M)[1]\n",
    "    m = np.ravel(mat)\n",
    "    x = np.ravel(np.indices([s1,s2])[0])\n",
    "    y = np.ravel(np.indices([s1,s2])[1]) \n",
    "    if not rev:\n",
    "        return [(y[i],x[i],m[i], 'A') for i in range(len(m))]\n",
    "    else:\n",
    "        return [(x[i],y[i],m[i], 'B') for i in range(len(m))]"
   ]
  },
  {
   "cell_type": "markdown",
   "metadata": {},
   "source": [
    "Change matrices to list of tuples."
   ]
  },
  {
   "cell_type": "code",
   "execution_count": 4,
   "metadata": {},
   "outputs": [],
   "source": [
    "m_ = map_mat(M)\n",
    "n_ = map_mat(N, 1)"
   ]
  },
  {
   "cell_type": "code",
   "execution_count": 5,
   "metadata": {},
   "outputs": [
    {
     "data": {
      "text/plain": [
       "[(0, 0, 3, 'A'),\n",
       " (1, 0, 0, 'A'),\n",
       " (0, 1, 1, 'A'),\n",
       " (1, 1, 3, 'A'),\n",
       " (0, 0, 3, 'B'),\n",
       " (0, 1, 2, 'B'),\n",
       " (1, 0, 3, 'B'),\n",
       " (1, 1, 3, 'B')]"
      ]
     },
     "execution_count": 5,
     "metadata": {},
     "output_type": "execute_result"
    }
   ],
   "source": [
    "m_ + n_"
   ]
  },
  {
   "cell_type": "markdown",
   "metadata": {},
   "source": [
    "Using DefaultDict(list) we can group those tuples with respect to the first argument. "
   ]
  },
  {
   "cell_type": "code",
   "execution_count": 12,
   "metadata": {},
   "outputs": [],
   "source": [
    "dm = dd(list)\n",
    "dn = dd(list)\n",
    "\n",
    "for j, y, v, n in m_: \n",
    "    dm[(j)].append((n, y, v))\n",
    "    \n",
    "for j, y, v, n in n_: \n",
    "    dn[(j)].append((n, y, v))"
   ]
  },
  {
   "cell_type": "code",
   "execution_count": 9,
   "metadata": {},
   "outputs": [
    {
     "data": {
      "text/plain": [
       "(defaultdict(list,\n",
       "             {0: [('A', 0, 3), ('A', 1, 1)], 1: [('A', 0, 0), ('A', 1, 3)]}),\n",
       " defaultdict(list,\n",
       "             {0: [('B', 0, 3), ('B', 1, 2)], 1: [('B', 0, 3), ('B', 1, 3)]}))"
      ]
     },
     "execution_count": 9,
     "metadata": {},
     "output_type": "execute_result"
    }
   ],
   "source": [
    "dm, dn"
   ]
  },
  {
   "cell_type": "markdown",
   "metadata": {},
   "source": [
    "For each group we perform multiplying every tuple from dm with every tuple from dn in the following fashion: Combining ('A', 0, 2) and ('B', 1, 2) gives tuple ((0,1), 2*2)"
   ]
  },
  {
   "cell_type": "code",
   "execution_count": 10,
   "metadata": {},
   "outputs": [],
   "source": [
    "w=[]\n",
    "for group in dm:\n",
    "    pairs = product(dm[group], dn[group])\n",
    "    for p in pairs:\n",
    "        w.append(((p[0][1], p[1][1]), p[0][2]*p[1][2]))"
   ]
  },
  {
   "cell_type": "code",
   "execution_count": 11,
   "metadata": {},
   "outputs": [
    {
     "data": {
      "text/plain": [
       "[((0, 0), 9),\n",
       " ((0, 1), 6),\n",
       " ((1, 0), 3),\n",
       " ((1, 1), 2),\n",
       " ((0, 0), 0),\n",
       " ((0, 1), 0),\n",
       " ((1, 0), 9),\n",
       " ((1, 1), 9)]"
      ]
     },
     "execution_count": 11,
     "metadata": {},
     "output_type": "execute_result"
    }
   ],
   "source": [
    "w"
   ]
  },
  {
   "cell_type": "markdown",
   "metadata": {},
   "source": [
    "Tuples above only need to be grouped by first parameter and added. DefaultDict(int) can be used here to do it simply."
   ]
  },
  {
   "cell_type": "code",
   "execution_count": 13,
   "metadata": {},
   "outputs": [],
   "source": [
    "dr = dd(int)\n",
    "for c, v in w: \n",
    "    dr[(c)] += v"
   ]
  },
  {
   "cell_type": "code",
   "execution_count": 14,
   "metadata": {},
   "outputs": [
    {
     "data": {
      "text/plain": [
       "defaultdict(int, {(0, 0): 9, (0, 1): 6, (1, 0): 12, (1, 1): 11})"
      ]
     },
     "execution_count": 14,
     "metadata": {},
     "output_type": "execute_result"
    }
   ],
   "source": [
    "dr"
   ]
  },
  {
   "cell_type": "markdown",
   "metadata": {},
   "source": [
    "### Bigger matrix test"
   ]
  },
  {
   "cell_type": "code",
   "execution_count": 29,
   "metadata": {},
   "outputs": [],
   "source": [
    "s1 = 300\n",
    "s2 = 300\n",
    "M = np.random.randint(low=0, high=4, size=[s1,s2])\n",
    "N = np.random.randint(low=0, high=4, size=[s2,s1])"
   ]
  },
  {
   "cell_type": "code",
   "execution_count": 30,
   "metadata": {},
   "outputs": [
    {
     "name": "stdout",
     "output_type": "stream",
     "text": [
      "Wall time: 221 ms\n"
     ]
    }
   ],
   "source": [
    "%%time\n",
    "w=[]\n",
    "m_ = map_mat(M)\n",
    "n_ = map_mat(N, 1)\n",
    "dm = dd(list)\n",
    "dn = dd(list)\n",
    "dr = dd(int)\n",
    "for j, y, v, n in m_: \n",
    "    dm[(j)].append((n, y, v))\n",
    "    \n",
    "for j, y, v, n in n_: \n",
    "    dn[(j)].append((n, y, v))"
   ]
  },
  {
   "cell_type": "code",
   "execution_count": 31,
   "metadata": {},
   "outputs": [
    {
     "name": "stdout",
     "output_type": "stream",
     "text": [
      "Wall time: 1min 31s\n"
     ]
    }
   ],
   "source": [
    "%%time\n",
    "for group in dm:\n",
    "    pairs = product(dm[group], dn[group])\n",
    "    for p in pairs:\n",
    "        w.append(((p[0][1], p[1][1]), p[0][2]*p[1][2]))"
   ]
  },
  {
   "cell_type": "code",
   "execution_count": 32,
   "metadata": {},
   "outputs": [
    {
     "name": "stdout",
     "output_type": "stream",
     "text": [
      "Wall time: 22.9 s\n"
     ]
    }
   ],
   "source": [
    "%%time\n",
    "for c, v in w: \n",
    "    dr[(c)] += v"
   ]
  },
  {
   "cell_type": "markdown",
   "metadata": {},
   "source": [
    "This implementation is easy to parallelize. In serialized mode it is slower than traditional methods."
   ]
  }
 ],
 "metadata": {
  "kernelspec": {
   "display_name": "Python 3",
   "language": "python",
   "name": "python3"
  },
  "language_info": {
   "codemirror_mode": {
    "name": "ipython",
    "version": 3
   },
   "file_extension": ".py",
   "mimetype": "text/x-python",
   "name": "python",
   "nbconvert_exporter": "python",
   "pygments_lexer": "ipython3",
   "version": "3.7.1"
  }
 },
 "nbformat": 4,
 "nbformat_minor": 2
}
